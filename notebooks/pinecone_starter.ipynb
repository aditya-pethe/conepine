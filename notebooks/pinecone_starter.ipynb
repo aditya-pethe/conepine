{
 "cells": [
  {
   "cell_type": "code",
   "execution_count": null,
   "source": [
    "# for now, I recommend https://docs.pinecone.io/docs/langchain\n",
    "# experiments with pinecone / ml stuff will go in this dir"
   ],
   "outputs": [],
   "metadata": {}
  }
 ],
 "metadata": {
  "orig_nbformat": 4,
  "language_info": {
   "name": "python"
  }
 },
 "nbformat": 4,
 "nbformat_minor": 2
}